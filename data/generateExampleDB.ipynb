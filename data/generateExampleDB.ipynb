{
 "cells": [
  {
   "cell_type": "code",
   "execution_count": 1,
   "metadata": {},
   "outputs": [],
   "source": [
    "import sqlite3"
   ]
  },
  {
   "cell_type": "code",
   "execution_count": 2,
   "metadata": {},
   "outputs": [
    {
     "ename": "OperationalError",
     "evalue": "table stocks already exists",
     "output_type": "error",
     "traceback": [
      "\u001b[0;31m---------------------------------------------------------------------------\u001b[0m",
      "\u001b[0;31mOperationalError\u001b[0m                          Traceback (most recent call last)",
      "\u001b[0;32m<ipython-input-2-a0739440fa02>\u001b[0m in \u001b[0;36m<module>\u001b[0;34m\u001b[0m\n\u001b[1;32m      2\u001b[0m \u001b[0mcur\u001b[0m \u001b[0;34m=\u001b[0m \u001b[0mcon\u001b[0m\u001b[0;34m.\u001b[0m\u001b[0mcursor\u001b[0m\u001b[0;34m(\u001b[0m\u001b[0;34m)\u001b[0m\u001b[0;34m\u001b[0m\u001b[0;34m\u001b[0m\u001b[0m\n\u001b[1;32m      3\u001b[0m cur.execute('''CREATE TABLE stocks\n\u001b[0;32m----> 4\u001b[0;31m                (date text, trans text, symbol text, qty real, price real)''')\n\u001b[0m\u001b[1;32m      5\u001b[0m \u001b[0;34m\u001b[0m\u001b[0m\n\u001b[1;32m      6\u001b[0m \u001b[0mcur\u001b[0m\u001b[0;34m.\u001b[0m\u001b[0mexecute\u001b[0m\u001b[0;34m(\u001b[0m\u001b[0;34m\"INSERT INTO stocks VALUES ('2006-01-05','BUY','RHAT',100,35.14)\"\u001b[0m\u001b[0;34m)\u001b[0m\u001b[0;34m\u001b[0m\u001b[0;34m\u001b[0m\u001b[0m\n",
      "\u001b[0;31mOperationalError\u001b[0m: table stocks already exists"
     ]
    }
   ],
   "source": [
    "con = sqlite3.connect('data.db')\n",
    "cur = con.cursor()\n",
    "cur.execute('''CREATE TABLE stocks\n",
    "               (date text, trans text, symbol text, qty real, price real)''')\n",
    "\n",
    "cur.execute(\"INSERT INTO stocks VALUES ('2006-01-05','BUY','RHAT',100,35.14)\")\n",
    "cur.execute(\"INSERT INTO stocks VALUES ('2006-03-28', 'BUY', 'IBM', 1000, 45.0)\")\n",
    "cur.execute(\"INSERT INTO stocks VALUES ('2006-04-06', 'SELL', 'IBM', 500, 53.0)\")\n",
    "cur.execute(\"INSERT INTO stocks VALUES ('2006-04-05', 'BUY', 'MSFT', 1000, 72.0)\")\n",
    "con.commit()\n",
    "con.close()"
   ]
  },
  {
   "cell_type": "code",
   "execution_count": 3,
   "metadata": {},
   "outputs": [],
   "source": [
    "con = sqlite3.connect('data.db')\n",
    "cur = con.cursor()\n",
    "cur.execute('''CREATE TABLE options\n",
    "               (expiry text, type text, underlying, strike real, premium real)''')\n",
    "\n",
    "cur.execute(\"INSERT INTO options VALUES ('2006-01-05','P','SPX',3300,35.14)\")\n",
    "cur.execute(\"INSERT INTO options VALUES ('2006-03-28', 'P', 'SX5E', 4400, 45.0)\")\n",
    "cur.execute(\"INSERT INTO options VALUES ('2006-04-06', 'C', 'SPX', 3500, 53.0)\")\n",
    "cur.execute(\"INSERT INTO options VALUES ('2006-04-05', 'C', 'SX5E', 4500, 72.0)\")\n",
    "con.commit()\n",
    "con.close()"
   ]
  },
  {
   "cell_type": "code",
   "execution_count": 4,
   "metadata": {
    "scrolled": true
   },
   "outputs": [
    {
     "name": "stdout",
     "output_type": "stream",
     "text": [
      "('2006-01-05', 'BUY', 'RHAT', 100.0, 35.14)\n",
      "('2006-03-28', 'BUY', 'IBM', 1000.0, 45.0)\n",
      "('2006-04-06', 'SELL', 'IBM', 500.0, 53.0)\n",
      "('2006-04-05', 'BUY', 'MSFT', 1000.0, 72.0)\n"
     ]
    }
   ],
   "source": [
    "con = sqlite3.connect('data.db')\n",
    "cur = con.cursor()\n",
    "for row in cur.execute('SELECT * FROM stocks order by price asc'):\n",
    "        print(row)\n",
    "con.close()\n",
    "        \n"
   ]
  },
  {
   "cell_type": "code",
   "execution_count": 5,
   "metadata": {},
   "outputs": [
    {
     "name": "stdout",
     "output_type": "stream",
     "text": [
      "('2006-01-05', 'P', 'SPX', 3300.0, 35.14)\n",
      "('2006-03-28', 'P', 'SX5E', 4400.0, 45.0)\n",
      "('2006-04-06', 'C', 'SPX', 3500.0, 53.0)\n",
      "('2006-04-05', 'C', 'SX5E', 4500.0, 72.0)\n"
     ]
    }
   ],
   "source": [
    "con = sqlite3.connect('data.db')\n",
    "cur = con.cursor()\n",
    "for row in cur.execute('SELECT * FROM options order by premium asc'):\n",
    "        print(row)\n",
    "con.close()"
   ]
  },
  {
   "cell_type": "code",
   "execution_count": 3,
   "metadata": {},
   "outputs": [
    {
     "ename": "OperationalError",
     "evalue": "near \"?\": syntax error",
     "output_type": "error",
     "traceback": [
      "\u001b[0;31m---------------------------------------------------------------------------\u001b[0m",
      "\u001b[0;31mOperationalError\u001b[0m                          Traceback (most recent call last)",
      "\u001b[0;32m<ipython-input-3-79d0dc560b9d>\u001b[0m in \u001b[0;36m<module>\u001b[0;34m\u001b[0m\n\u001b[1;32m      4\u001b[0m \u001b[0;34m\u001b[0m\u001b[0m\n\u001b[1;32m      5\u001b[0m \u001b[0;31m# This is the qmark style:\u001b[0m\u001b[0;34m\u001b[0m\u001b[0;34m\u001b[0m\u001b[0;34m\u001b[0m\u001b[0m\n\u001b[0;32m----> 6\u001b[0;31m \u001b[0mcur\u001b[0m\u001b[0;34m.\u001b[0m\u001b[0mexecute\u001b[0m\u001b[0;34m(\u001b[0m\u001b[0;34m\"insert into ? values (?, ?)\"\u001b[0m\u001b[0;34m,\u001b[0m \u001b[0;34m(\u001b[0m\u001b[0;34m\"lang\"\u001b[0m\u001b[0;34m,\u001b[0m \u001b[0;34m\"C\"\u001b[0m\u001b[0;34m,\u001b[0m \u001b[0;36m1972\u001b[0m\u001b[0;34m)\u001b[0m\u001b[0;34m)\u001b[0m\u001b[0;34m\u001b[0m\u001b[0;34m\u001b[0m\u001b[0m\n\u001b[0m\u001b[1;32m      7\u001b[0m \u001b[0;34m\u001b[0m\u001b[0m\n\u001b[1;32m      8\u001b[0m \u001b[0;31m# The qmark style used with executemany():\u001b[0m\u001b[0;34m\u001b[0m\u001b[0;34m\u001b[0m\u001b[0;34m\u001b[0m\u001b[0m\n",
      "\u001b[0;31mOperationalError\u001b[0m: near \"?\": syntax error"
     ]
    }
   ],
   "source": [
    "con = sqlite3.connect(\":memory:\")\n",
    "cur = con.cursor()\n",
    "cur.execute(\"create table lang (name, first_appeared)\")\n",
    "\n",
    "# This is the qmark style:\n",
    "cur.execute(\"insert into ? values (?, ?)\", (\"lang\", \"C\", 1972))\n",
    "\n",
    "# The qmark style used with executemany():\n",
    "lang_list = [\n",
    "    (\"Fortran\", 1957),\n",
    "    (\"Python\", 1991),\n",
    "    (\"Go\", 2009),\n",
    "]\n",
    "cur.executemany(\"insert into lang values (?, ?)\", lang_list)\n",
    "\n",
    "# And this is the named style:\n",
    "cur.execute(\"select * from lang where first_appeared=:year\", {\"year\": 1972})\n",
    "print(cur.fetchall())\n",
    "\n",
    "con.close()"
   ]
  },
  {
   "cell_type": "code",
   "execution_count": null,
   "metadata": {},
   "outputs": [],
   "source": []
  }
 ],
 "metadata": {
  "kernelspec": {
   "display_name": "Python 3",
   "language": "python",
   "name": "python3"
  },
  "language_info": {
   "codemirror_mode": {
    "name": "ipython",
    "version": 3
   },
   "file_extension": ".py",
   "mimetype": "text/x-python",
   "name": "python",
   "nbconvert_exporter": "python",
   "pygments_lexer": "ipython3",
   "version": "3.7.4"
  }
 },
 "nbformat": 4,
 "nbformat_minor": 4
}
